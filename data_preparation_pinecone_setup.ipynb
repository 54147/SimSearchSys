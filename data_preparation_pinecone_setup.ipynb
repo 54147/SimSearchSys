{
 "cells": [
  {
   "cell_type": "code",
   "execution_count": 3,
   "id": "f84b922c-991d-4352-8653-85eb57fc8d57",
   "metadata": {},
   "outputs": [],
   "source": [
    "import requests\n",
    "import pdfplumber\n",
    "import os\n",
    "from io import BytesIO\n",
    "\n",
    "from pinecone import Pinecone, ServerlessSpec"
   ]
  },
  {
   "cell_type": "code",
   "execution_count": null,
   "id": "94ae59c8-4ac7-4d3e-836a-1726b3b5613c",
   "metadata": {},
   "outputs": [],
   "source": [
    "#----------GET PDF------------#"
   ]
  },
  {
   "cell_type": "code",
   "execution_count": 2,
   "id": "5ab60735-d71c-4d23-b17c-c77c6b913107",
   "metadata": {},
   "outputs": [],
   "source": [
    "url = \"https://services.google.com/fh/files/misc/ai_adoption_framework_whitepaper.pdf\""
   ]
  },
  {
   "cell_type": "code",
   "execution_count": 3,
   "id": "64a69535-b6c7-4a54-912f-74cd867ed019",
   "metadata": {},
   "outputs": [],
   "source": [
    "rq = requests.get(url)"
   ]
  },
  {
   "cell_type": "code",
   "execution_count": null,
   "id": "77133d75-0706-44bc-80a6-16fa098da69c",
   "metadata": {},
   "outputs": [],
   "source": [
    "#----------TOKENIZE AND VECTORIZE------------#"
   ]
  },
  {
   "cell_type": "code",
   "execution_count": 3,
   "id": "60b8f1b5-4aa1-442a-a814-22260d4d1eaa",
   "metadata": {},
   "outputs": [],
   "source": [
    "# tokenizer lib can be donwloaded by installing requirements or by uncommenting below\n",
    "\n",
    "# spacy.cli.download(\"en_core_web_sm\")"
   ]
  },
  {
   "cell_type": "code",
   "execution_count": 7,
   "id": "66b258e5-99fc-41a2-b368-7f24e75b4f75",
   "metadata": {},
   "outputs": [],
   "source": [
    "from sentence_transformers import SentenceTransformer\n",
    "import spacy\n",
    "\n",
    "model = SentenceTransformer('sentence-transformers/all-MiniLM-L6-v1')\n",
    "nlp = spacy.load('en_core_web_sm')"
   ]
  },
  {
   "cell_type": "code",
   "execution_count": 6,
   "id": "ca0138ec-f5a4-4ff3-ab41-f47df5b77db6",
   "metadata": {},
   "outputs": [],
   "source": [
    "# Vectorize downloaded pdf file tokenized by sentences\n",
    "vectors = []\n",
    "\n",
    "with pdfplumber.open(BytesIO(rq.content)) as pdf:\n",
    "    for i, page in enumerate(pdf.pages):\n",
    "        page_text = page.extract_text()\n",
    "        sentences = nlp(page_text).sents\n",
    "\n",
    "        for j, sentence in enumerate(sentences):\n",
    "            id = f\"page_{i+1}_sentence_{j+1}\"\n",
    "            sent_text = str(sentence)\n",
    "            vector = model.encode(sent_text)\n",
    "            \n",
    "\n",
    "            vectors.append({\"id\": id, \"values\": [float(i) for i in vector], \"metadata\": {\"text\": sent_text}})\n"
   ]
  },
  {
   "cell_type": "code",
   "execution_count": 10,
   "id": "236c077e-db6d-4a90-ae51-4b181d59f8f1",
   "metadata": {},
   "outputs": [],
   "source": [
    "#----------PINECONE DATA UPLOAD------------#"
   ]
  },
  {
   "cell_type": "code",
   "execution_count": 4,
   "id": "2071c6ed-7f83-4ff8-b7b8-56b6ca674892",
   "metadata": {},
   "outputs": [],
   "source": [
    "# pinecone client\n",
    "\n",
    "pc = Pinecone(api_key=os.environ[\"pinecone_api_key\"])"
   ]
  },
  {
   "cell_type": "code",
   "execution_count": 5,
   "id": "ab7d0e99-6caf-4a79-838d-cb1830353509",
   "metadata": {},
   "outputs": [
    {
     "ename": "NameError",
     "evalue": "name 'pc' is not defined",
     "output_type": "error",
     "traceback": [
      "\u001b[0;31m---------------------------------------------------------------------------\u001b[0m",
      "\u001b[0;31mNameError\u001b[0m                                 Traceback (most recent call last)",
      "Cell \u001b[0;32mIn[5], line 3\u001b[0m\n\u001b[1;32m      1\u001b[0m \u001b[38;5;66;03m# create index with correspoinding to sentence-transformers/all-MiniLM-L6-v1 dimension, and dotproduct metric\u001b[39;00m\n\u001b[0;32m----> 3\u001b[0m \u001b[43mpc\u001b[49m\u001b[38;5;241m.\u001b[39mcreate_index(\n\u001b[1;32m      4\u001b[0m     name\u001b[38;5;241m=\u001b[39m\u001b[38;5;124m\"\u001b[39m\u001b[38;5;124mwhitepaper-embeddings-dotproduct\u001b[39m\u001b[38;5;124m\"\u001b[39m, \n\u001b[1;32m      5\u001b[0m     dimension\u001b[38;5;241m=\u001b[39m\u001b[38;5;241m384\u001b[39m, \n\u001b[1;32m      6\u001b[0m     metric\u001b[38;5;241m=\u001b[39m\u001b[38;5;124m\"\u001b[39m\u001b[38;5;124mdotproduct\u001b[39m\u001b[38;5;124m\"\u001b[39m, \n\u001b[1;32m      7\u001b[0m     spec\u001b[38;5;241m=\u001b[39mServerlessSpec(cloud\u001b[38;5;241m=\u001b[39m\u001b[38;5;124m\"\u001b[39m\u001b[38;5;124maws\u001b[39m\u001b[38;5;124m\"\u001b[39m, region\u001b[38;5;241m=\u001b[39m\u001b[38;5;124m\"\u001b[39m\u001b[38;5;124mus-east-1\u001b[39m\u001b[38;5;124m\"\u001b[39m)\n\u001b[1;32m      8\u001b[0m )\n",
      "\u001b[0;31mNameError\u001b[0m: name 'pc' is not defined"
     ]
    }
   ],
   "source": [
    "# create index with correspoinding to sentence-transformers/all-MiniLM-L6-v1 dimension\n",
    "# and dotproduct metric\n",
    "\n",
    "pc.create_index(\n",
    "    name=\"whitepaper-embeddings-dotproduct\", \n",
    "    dimension=384, \n",
    "    metric=\"dotproduct\", \n",
    "    spec=ServerlessSpec(cloud=\"aws\", region=\"us-east-1\")\n",
    ")"
   ]
  },
  {
   "cell_type": "code",
   "execution_count": 5,
   "id": "551faadf-d40c-45f3-9ad6-f50bbb20e41e",
   "metadata": {},
   "outputs": [
    {
     "data": {
      "text/plain": [
       "{'dimension': 384,\n",
       " 'index_fullness': 0.0,\n",
       " 'namespaces': {'': {'vector_count': 373}},\n",
       " 'total_vector_count': 373}"
      ]
     },
     "execution_count": 5,
     "metadata": {},
     "output_type": "execute_result"
    }
   ],
   "source": [
    "index_name = \"whitepaper-embeddings-dotproduct\"\n",
    "index = pc.Index(index_name)\n",
    "\n",
    "index.describe_index_stats()"
   ]
  },
  {
   "cell_type": "code",
   "execution_count": 19,
   "id": "d9547e0c-f80c-45be-91c8-65a1cfe2f2e7",
   "metadata": {
    "scrolled": true
   },
   "outputs": [],
   "source": [
    "#vectors = [{'id': vector[\"id\"], 'values': vector[\"values\"], 'metadata':{\"text\": vector[\"text\"]}} for vector in vectors]\n"
   ]
  },
  {
   "cell_type": "code",
   "execution_count": 33,
   "id": "2f756a31-fa39-47dd-91a3-ba20475c4d70",
   "metadata": {},
   "outputs": [
    {
     "data": {
      "text/plain": [
       "{'upserted_count': 373}"
      ]
     },
     "execution_count": 33,
     "metadata": {},
     "output_type": "execute_result"
    }
   ],
   "source": [
    "# upsert data to pinecone index\n",
    "index_name = \"whitepaper-embeddings-dotproduct\"\n",
    "\n",
    "index = pc.Index(index_name)\n",
    "index.upsert(vectors=vectors)"
   ]
  },
  {
   "cell_type": "code",
   "execution_count": null,
   "id": "b6134d12-e80b-4399-ac47-317cde5c68f1",
   "metadata": {},
   "outputs": [],
   "source": [
    "#-----------QUERING-----------#"
   ]
  },
  {
   "cell_type": "code",
   "execution_count": 11,
   "id": "5eb06b5f-e41b-4e5e-a143-dbb6a7ac0ab4",
   "metadata": {},
   "outputs": [],
   "source": [
    "# now we can query \n",
    "\n",
    "sentence_to_search = \"Organizations at this phase should look to develop the foundational skill set for core datawrangling and descriptive analytics\"\n",
    "\n",
    "vector_to_query = [float(i) for i in model.encode(sentence_to_search)]"
   ]
  },
  {
   "cell_type": "code",
   "execution_count": 14,
   "id": "f71f67a2-92ed-49cd-a439-7fa97d05e578",
   "metadata": {},
   "outputs": [],
   "source": [
    "results = index.query(\n",
    "    index=\"whitepaper-embeddings-dotproduct\", \n",
    "    vector=vector_to_query,\n",
    "    top_k=3,\n",
    "    #include_values=True,\n",
    "    include_metadata=True,\n",
    ")"
   ]
  },
  {
   "cell_type": "code",
   "execution_count": 16,
   "id": "64849010-baf6-4051-b316-b0b84d7ccb9b",
   "metadata": {},
   "outputs": [
    {
     "data": {
      "text/plain": [
       "{'matches': [{'id': 'page_17_sentence_1',\n",
       "              'metadata': {'text': '15\\n'\n",
       "                                   'Organizations at this phase should look to '\n",
       "                                   'develop the foundational skill set for '\n",
       "                                   'core data\\n'\n",
       "                                   'wrangling and descriptive analytics.'},\n",
       "              'score': 0.891715467,\n",
       "              'values': []},\n",
       "             {'id': 'page_8_sentence_3',\n",
       "              'metadata': {'text': 'What data and ML skill sets\\n'\n",
       "                                   'are required in the organization?'},\n",
       "              'score': 0.638456106,\n",
       "              'values': []},\n",
       "             {'id': 'page_18_sentence_5',\n",
       "              'metadata': {'text': 'At this phase, teams have skills in data '\n",
       "                                   'wrangling and descriptive and predictive '\n",
       "                                   'analytics;\\n'\n",
       "                                   'they use existing frameworks, methods, and '\n",
       "                                   'techniques to solve a variety of use '\n",
       "                                   'cases; and\\n'\n",
       "                                   'they often deploy custom ML models in '\n",
       "                                   'production.'},\n",
       "              'score': 0.588824153,\n",
       "              'values': []}],\n",
       " 'namespace': '',\n",
       " 'usage': {'read_units': 6}}"
      ]
     },
     "execution_count": 16,
     "metadata": {},
     "output_type": "execute_result"
    }
   ],
   "source": [
    "results"
   ]
  }
 ],
 "metadata": {
  "kernelspec": {
   "display_name": "Python 3 (ipykernel)",
   "language": "python",
   "name": "python3"
  },
  "language_info": {
   "codemirror_mode": {
    "name": "ipython",
    "version": 3
   },
   "file_extension": ".py",
   "mimetype": "text/x-python",
   "name": "python",
   "nbconvert_exporter": "python",
   "pygments_lexer": "ipython3",
   "version": "3.10.14"
  }
 },
 "nbformat": 4,
 "nbformat_minor": 5
}
