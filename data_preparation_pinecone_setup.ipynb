{
 "cells": [
  {
   "cell_type": "code",
   "execution_count": 2,
   "id": "f84b922c-991d-4352-8653-85eb57fc8d57",
   "metadata": {},
   "outputs": [],
   "source": [
    "import requests\n",
    "import pdfplumber\n",
    "import os\n",
    "from io import BytesIO\n",
    "\n",
    "from pinecone import Pinecone, ServerlessSpec"
   ]
  },
  {
   "cell_type": "code",
   "execution_count": null,
   "id": "94ae59c8-4ac7-4d3e-836a-1726b3b5613c",
   "metadata": {},
   "outputs": [],
   "source": [
    "#----------GET PDF------------#"
   ]
  },
  {
   "cell_type": "code",
   "execution_count": null,
   "id": "5ab60735-d71c-4d23-b17c-c77c6b913107",
   "metadata": {},
   "outputs": [],
   "source": [
    "url = \"https://services.google.com/fh/files/misc/ai_adoption_framework_whitepaper.pdf\""
   ]
  },
  {
   "cell_type": "code",
   "execution_count": null,
   "id": "64a69535-b6c7-4a54-912f-74cd867ed019",
   "metadata": {},
   "outputs": [],
   "source": [
    "rq = requests.get(url)"
   ]
  },
  {
   "cell_type": "code",
   "execution_count": null,
   "id": "77133d75-0706-44bc-80a6-16fa098da69c",
   "metadata": {},
   "outputs": [],
   "source": [
    "#----------TOKENIZE AND VECTORIZE------------#"
   ]
  },
  {
   "cell_type": "code",
   "execution_count": null,
   "id": "60b8f1b5-4aa1-442a-a814-22260d4d1eaa",
   "metadata": {},
   "outputs": [],
   "source": [
    "# tokenizer lib can be donwloaded by installing requirements or by uncommenting below\n",
    "\n",
    "# spacy.cli.download(\"en_core_web_sm\")"
   ]
  },
  {
   "cell_type": "code",
   "execution_count": 3,
   "id": "66b258e5-99fc-41a2-b368-7f24e75b4f75",
   "metadata": {},
   "outputs": [],
   "source": [
    "from sentence_transformers import SentenceTransformer\n",
    "import spacy\n",
    "\n",
    "model = SentenceTransformer('sentence-transformers/all-MiniLM-L6-v1')\n",
    "nlp = spacy.load('en_core_web_sm')"
   ]
  },
  {
   "cell_type": "code",
   "execution_count": null,
   "id": "ca0138ec-f5a4-4ff3-ab41-f47df5b77db6",
   "metadata": {},
   "outputs": [],
   "source": [
    "# Vectorize downloaded pdf file tokenized by sentences\n",
    "vectors = []\n",
    "\n",
    "with pdfplumber.open(BytesIO(rq.content)) as pdf:\n",
    "    for i, page in enumerate(pdf.pages):\n",
    "        page_text = page.extract_text()\n",
    "        sentences = nlp(page_text).sents\n",
    "\n",
    "        for j, sentence in enumerate(sentences):\n",
    "            id = f\"page_{i+1}_sentence_{j+1}\"\n",
    "            sent_text = str(sentence)\n",
    "            vector = model.encode(sent_text)\n",
    "            \n",
    "\n",
    "            vectors.append({\"id\": id, \"values\": [float(i) for i in vector], \"metadata\": {\"text\": sent_text}})\n"
   ]
  },
  {
   "cell_type": "code",
   "execution_count": null,
   "id": "236c077e-db6d-4a90-ae51-4b181d59f8f1",
   "metadata": {},
   "outputs": [],
   "source": [
    "#----------PINECONE DATA UPLOAD------------#"
   ]
  },
  {
   "cell_type": "code",
   "execution_count": null,
   "id": "2071c6ed-7f83-4ff8-b7b8-56b6ca674892",
   "metadata": {},
   "outputs": [],
   "source": [
    "# pinecone client\n",
    "\n",
    "pc = Pinecone(api_key=os.environ[\"pinecone_api_key\"])"
   ]
  },
  {
   "cell_type": "code",
   "execution_count": null,
   "id": "ab7d0e99-6caf-4a79-838d-cb1830353509",
   "metadata": {},
   "outputs": [],
   "source": [
    "# create index with correspoinding to sentence-transformers/all-MiniLM-L6-v1 dimension\n",
    "# and dotproduct metric\n",
    "\n",
    "pc.create_index(\n",
    "    name=\"whitepaper-embeddings-dotproduct\", \n",
    "    dimension=384, \n",
    "    metric=\"dotproduct\", \n",
    "    spec=ServerlessSpec(cloud=\"aws\", region=\"us-east-1\")\n",
    ")"
   ]
  },
  {
   "cell_type": "code",
   "execution_count": null,
   "id": "551faadf-d40c-45f3-9ad6-f50bbb20e41e",
   "metadata": {},
   "outputs": [],
   "source": [
    "index_name = \"whitepaper-embeddings-dotproduct\"\n",
    "index = pc.Index(index_name)\n",
    "\n",
    "index.describe_index_stats()"
   ]
  },
  {
   "cell_type": "code",
   "execution_count": null,
   "id": "b04bc1b0-4d2f-4fd6-a2f0-f772c167b5be",
   "metadata": {},
   "outputs": [],
   "source": [
    "# upsert data to pinecone index\n",
    "index_name = \"whitepaper-embeddings-dotproduct\"\n",
    "\n",
    "index = pc.Index(index_name)\n",
    "index.upsert(vectors=vectors)"
   ]
  },
  {
   "cell_type": "code",
   "execution_count": null,
   "id": "b6134d12-e80b-4399-ac47-317cde5c68f1",
   "metadata": {},
   "outputs": [],
   "source": [
    "#-----------QUERING-----------#"
   ]
  },
  {
   "cell_type": "code",
   "execution_count": null,
   "id": "5eb06b5f-e41b-4e5e-a143-dbb6a7ac0ab4",
   "metadata": {},
   "outputs": [],
   "source": [
    "# now we can query \n",
    "\n",
    "sentence_to_search = \"Organizations at this phase should look to develop the foundational skill set for core datawrangling and descriptive analytics\"\n",
    "\n",
    "vector_to_query = [float(i) for i in model.encode(sentence_to_search)]"
   ]
  },
  {
   "cell_type": "code",
   "execution_count": null,
   "id": "f71f67a2-92ed-49cd-a439-7fa97d05e578",
   "metadata": {},
   "outputs": [],
   "source": [
    "results = index.query(\n",
    "    index=\"whitepaper-embeddings-dotproduct\", \n",
    "    vector=vector_to_query,\n",
    "    top_k=3,\n",
    "    #include_values=True,\n",
    "    include_metadata=True,\n",
    ")"
   ]
  },
  {
   "cell_type": "code",
   "execution_count": null,
   "id": "64849010-baf6-4051-b316-b0b84d7ccb9b",
   "metadata": {},
   "outputs": [],
   "source": [
    "results"
   ]
  }
 ],
 "metadata": {
  "kernelspec": {
   "display_name": "Python 3 (ipykernel)",
   "language": "python",
   "name": "python3"
  },
  "language_info": {
   "codemirror_mode": {
    "name": "ipython",
    "version": 3
   },
   "file_extension": ".py",
   "mimetype": "text/x-python",
   "name": "python",
   "nbconvert_exporter": "python",
   "pygments_lexer": "ipython3",
   "version": "3.10.14"
  }
 },
 "nbformat": 4,
 "nbformat_minor": 5
}
